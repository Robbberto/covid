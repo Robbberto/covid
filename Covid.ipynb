{
 "cells": [
  {
   "cell_type": "code",
   "execution_count": 259,
   "metadata": {},
   "outputs": [],
   "source": [
    "import os\n",
    "import urllib\n",
    "import pandas as pd\n",
    "import numpy as np\n",
    "import matplotlib.pyplot as plt\n",
    "\n",
    "DOWNLOAD_ROOT = \"https://raw.githubusercontent.com/pcm-dpc/COVID-19\"\n",
    "COVID_PATH = os.path.join(\"datasets\", \"covid\")\n",
    "COVID__REGIONI_URL = DOWNLOAD_ROOT + \"/master/dati-regioni/dpc-covid19-ita-regioni.csv\"\n",
    "\n",
    "def fetch_dati_regione(regioni_url=COVID__REGIONI_URL, regioni_path=COVID_PATH):\n",
    "    os.makedirs(regioni_path, exist_ok=True)\n",
    "    path=os.path.join(regioni_path, \"regioni.csv\")\n",
    "    urllib.request.urlretrieve(regioni_url, path)\n",
    "    \n",
    "def load_dati_regione(regioni_path=COVID_PATH):\n",
    "    csv_path=os.path.join(regioni_path, \"regioni.csv\")\n",
    "    return pd.read_csv(csv_path)"
   ]
  },
  {
   "cell_type": "markdown",
   "metadata": {},
   "source": [
    "# Data Gathering"
   ]
  },
  {
   "cell_type": "code",
   "execution_count": 260,
   "metadata": {
    "scrolled": true
   },
   "outputs": [
    {
     "data": {
      "text/html": [
       "<div>\n",
       "<style scoped>\n",
       "    .dataframe tbody tr th:only-of-type {\n",
       "        vertical-align: middle;\n",
       "    }\n",
       "\n",
       "    .dataframe tbody tr th {\n",
       "        vertical-align: top;\n",
       "    }\n",
       "\n",
       "    .dataframe thead th {\n",
       "        text-align: right;\n",
       "    }\n",
       "</style>\n",
       "<table border=\"1\" class=\"dataframe\">\n",
       "  <thead>\n",
       "    <tr style=\"text-align: right;\">\n",
       "      <th></th>\n",
       "      <th>data</th>\n",
       "      <th>stato</th>\n",
       "      <th>codice_regione</th>\n",
       "      <th>denominazione_regione</th>\n",
       "      <th>lat</th>\n",
       "      <th>long</th>\n",
       "      <th>ricoverati_con_sintomi</th>\n",
       "      <th>terapia_intensiva</th>\n",
       "      <th>totale_ospedalizzati</th>\n",
       "      <th>isolamento_domiciliare</th>\n",
       "      <th>totale_attualmente_positivi</th>\n",
       "      <th>nuovi_attualmente_positivi</th>\n",
       "      <th>dimessi_guariti</th>\n",
       "      <th>deceduti</th>\n",
       "      <th>totale_casi</th>\n",
       "      <th>tamponi</th>\n",
       "    </tr>\n",
       "  </thead>\n",
       "  <tbody>\n",
       "    <tr>\n",
       "      <th>0</th>\n",
       "      <td>2020-02-24 18:00:00</td>\n",
       "      <td>ITA</td>\n",
       "      <td>13</td>\n",
       "      <td>Abruzzo</td>\n",
       "      <td>42.351222</td>\n",
       "      <td>13.398438</td>\n",
       "      <td>0</td>\n",
       "      <td>0</td>\n",
       "      <td>0</td>\n",
       "      <td>0</td>\n",
       "      <td>0</td>\n",
       "      <td>0</td>\n",
       "      <td>0</td>\n",
       "      <td>0</td>\n",
       "      <td>0</td>\n",
       "      <td>5</td>\n",
       "    </tr>\n",
       "    <tr>\n",
       "      <th>1</th>\n",
       "      <td>2020-02-24 18:00:00</td>\n",
       "      <td>ITA</td>\n",
       "      <td>17</td>\n",
       "      <td>Basilicata</td>\n",
       "      <td>40.639471</td>\n",
       "      <td>15.805148</td>\n",
       "      <td>0</td>\n",
       "      <td>0</td>\n",
       "      <td>0</td>\n",
       "      <td>0</td>\n",
       "      <td>0</td>\n",
       "      <td>0</td>\n",
       "      <td>0</td>\n",
       "      <td>0</td>\n",
       "      <td>0</td>\n",
       "      <td>0</td>\n",
       "    </tr>\n",
       "    <tr>\n",
       "      <th>2</th>\n",
       "      <td>2020-02-24 18:00:00</td>\n",
       "      <td>ITA</td>\n",
       "      <td>4</td>\n",
       "      <td>P.A. Bolzano</td>\n",
       "      <td>46.499335</td>\n",
       "      <td>11.356624</td>\n",
       "      <td>0</td>\n",
       "      <td>0</td>\n",
       "      <td>0</td>\n",
       "      <td>0</td>\n",
       "      <td>0</td>\n",
       "      <td>0</td>\n",
       "      <td>0</td>\n",
       "      <td>0</td>\n",
       "      <td>0</td>\n",
       "      <td>1</td>\n",
       "    </tr>\n",
       "    <tr>\n",
       "      <th>3</th>\n",
       "      <td>2020-02-24 18:00:00</td>\n",
       "      <td>ITA</td>\n",
       "      <td>18</td>\n",
       "      <td>Calabria</td>\n",
       "      <td>38.905976</td>\n",
       "      <td>16.594402</td>\n",
       "      <td>0</td>\n",
       "      <td>0</td>\n",
       "      <td>0</td>\n",
       "      <td>0</td>\n",
       "      <td>0</td>\n",
       "      <td>0</td>\n",
       "      <td>0</td>\n",
       "      <td>0</td>\n",
       "      <td>0</td>\n",
       "      <td>1</td>\n",
       "    </tr>\n",
       "    <tr>\n",
       "      <th>4</th>\n",
       "      <td>2020-02-24 18:00:00</td>\n",
       "      <td>ITA</td>\n",
       "      <td>15</td>\n",
       "      <td>Campania</td>\n",
       "      <td>40.839566</td>\n",
       "      <td>14.250850</td>\n",
       "      <td>0</td>\n",
       "      <td>0</td>\n",
       "      <td>0</td>\n",
       "      <td>0</td>\n",
       "      <td>0</td>\n",
       "      <td>0</td>\n",
       "      <td>0</td>\n",
       "      <td>0</td>\n",
       "      <td>0</td>\n",
       "      <td>10</td>\n",
       "    </tr>\n",
       "  </tbody>\n",
       "</table>\n",
       "</div>"
      ],
      "text/plain": [
       "                  data stato  codice_regione denominazione_regione        lat  \\\n",
       "0  2020-02-24 18:00:00   ITA              13               Abruzzo  42.351222   \n",
       "1  2020-02-24 18:00:00   ITA              17            Basilicata  40.639471   \n",
       "2  2020-02-24 18:00:00   ITA               4          P.A. Bolzano  46.499335   \n",
       "3  2020-02-24 18:00:00   ITA              18              Calabria  38.905976   \n",
       "4  2020-02-24 18:00:00   ITA              15              Campania  40.839566   \n",
       "\n",
       "        long  ricoverati_con_sintomi  terapia_intensiva  totale_ospedalizzati  \\\n",
       "0  13.398438                       0                  0                     0   \n",
       "1  15.805148                       0                  0                     0   \n",
       "2  11.356624                       0                  0                     0   \n",
       "3  16.594402                       0                  0                     0   \n",
       "4  14.250850                       0                  0                     0   \n",
       "\n",
       "   isolamento_domiciliare  totale_attualmente_positivi  \\\n",
       "0                       0                            0   \n",
       "1                       0                            0   \n",
       "2                       0                            0   \n",
       "3                       0                            0   \n",
       "4                       0                            0   \n",
       "\n",
       "   nuovi_attualmente_positivi  dimessi_guariti  deceduti  totale_casi  tamponi  \n",
       "0                           0                0         0            0        5  \n",
       "1                           0                0         0            0        0  \n",
       "2                           0                0         0            0        1  \n",
       "3                           0                0         0            0        1  \n",
       "4                           0                0         0            0       10  "
      ]
     },
     "execution_count": 260,
     "metadata": {},
     "output_type": "execute_result"
    }
   ],
   "source": [
    "fetch_dati_regione()\n",
    "regioni=load_dati_regione()\n",
    "regioni.head()"
   ]
  },
  {
   "cell_type": "markdown",
   "metadata": {},
   "source": [
    "Here we can run a first-look analysis of the data we have in hand"
   ]
  },
  {
   "cell_type": "code",
   "execution_count": 261,
   "metadata": {},
   "outputs": [
    {
     "data": {
      "text/html": [
       "<div>\n",
       "<style scoped>\n",
       "    .dataframe tbody tr th:only-of-type {\n",
       "        vertical-align: middle;\n",
       "    }\n",
       "\n",
       "    .dataframe tbody tr th {\n",
       "        vertical-align: top;\n",
       "    }\n",
       "\n",
       "    .dataframe thead th {\n",
       "        text-align: right;\n",
       "    }\n",
       "</style>\n",
       "<table border=\"1\" class=\"dataframe\">\n",
       "  <thead>\n",
       "    <tr style=\"text-align: right;\">\n",
       "      <th></th>\n",
       "      <th>codice_regione</th>\n",
       "      <th>lat</th>\n",
       "      <th>long</th>\n",
       "      <th>ricoverati_con_sintomi</th>\n",
       "      <th>terapia_intensiva</th>\n",
       "      <th>totale_ospedalizzati</th>\n",
       "      <th>isolamento_domiciliare</th>\n",
       "      <th>totale_attualmente_positivi</th>\n",
       "      <th>nuovi_attualmente_positivi</th>\n",
       "      <th>dimessi_guariti</th>\n",
       "      <th>deceduti</th>\n",
       "      <th>totale_casi</th>\n",
       "      <th>tamponi</th>\n",
       "    </tr>\n",
       "  </thead>\n",
       "  <tbody>\n",
       "    <tr>\n",
       "      <th>count</th>\n",
       "      <td>588.000000</td>\n",
       "      <td>588.000000</td>\n",
       "      <td>588.000000</td>\n",
       "      <td>588.000000</td>\n",
       "      <td>588.000000</td>\n",
       "      <td>588.000000</td>\n",
       "      <td>588.000000</td>\n",
       "      <td>588.000000</td>\n",
       "      <td>588.000000</td>\n",
       "      <td>588.000000</td>\n",
       "      <td>588.000000</td>\n",
       "      <td>588.000000</td>\n",
       "      <td>588.000000</td>\n",
       "    </tr>\n",
       "    <tr>\n",
       "      <th>mean</th>\n",
       "      <td>10.190476</td>\n",
       "      <td>43.046293</td>\n",
       "      <td>12.225955</td>\n",
       "      <td>289.806122</td>\n",
       "      <td>48.772109</td>\n",
       "      <td>338.579932</td>\n",
       "      <td>276.840136</td>\n",
       "      <td>615.418367</td>\n",
       "      <td>79.316327</td>\n",
       "      <td>76.722789</td>\n",
       "      <td>58.064626</td>\n",
       "      <td>750.205782</td>\n",
       "      <td>3858.069728</td>\n",
       "    </tr>\n",
       "    <tr>\n",
       "      <th>std</th>\n",
       "      <td>5.799998</td>\n",
       "      <td>2.490900</td>\n",
       "      <td>2.661212</td>\n",
       "      <td>988.666023</td>\n",
       "      <td>135.735296</td>\n",
       "      <td>1122.451889</td>\n",
       "      <td>790.734604</td>\n",
       "      <td>1871.041502</td>\n",
       "      <td>201.632271</td>\n",
       "      <td>464.180085</td>\n",
       "      <td>283.325697</td>\n",
       "      <td>2581.655716</td>\n",
       "      <td>9087.057712</td>\n",
       "    </tr>\n",
       "    <tr>\n",
       "      <th>min</th>\n",
       "      <td>1.000000</td>\n",
       "      <td>38.115697</td>\n",
       "      <td>7.320149</td>\n",
       "      <td>0.000000</td>\n",
       "      <td>0.000000</td>\n",
       "      <td>0.000000</td>\n",
       "      <td>0.000000</td>\n",
       "      <td>0.000000</td>\n",
       "      <td>-63.000000</td>\n",
       "      <td>0.000000</td>\n",
       "      <td>0.000000</td>\n",
       "      <td>0.000000</td>\n",
       "      <td>0.000000</td>\n",
       "    </tr>\n",
       "    <tr>\n",
       "      <th>25%</th>\n",
       "      <td>5.000000</td>\n",
       "      <td>41.125596</td>\n",
       "      <td>11.121231</td>\n",
       "      <td>2.000000</td>\n",
       "      <td>0.000000</td>\n",
       "      <td>2.000000</td>\n",
       "      <td>2.000000</td>\n",
       "      <td>5.000000</td>\n",
       "      <td>1.000000</td>\n",
       "      <td>0.000000</td>\n",
       "      <td>0.000000</td>\n",
       "      <td>6.000000</td>\n",
       "      <td>117.500000</td>\n",
       "    </tr>\n",
       "    <tr>\n",
       "      <th>50%</th>\n",
       "      <td>10.000000</td>\n",
       "      <td>43.616760</td>\n",
       "      <td>12.388247</td>\n",
       "      <td>19.000000</td>\n",
       "      <td>5.000000</td>\n",
       "      <td>24.500000</td>\n",
       "      <td>31.500000</td>\n",
       "      <td>58.000000</td>\n",
       "      <td>14.000000</td>\n",
       "      <td>0.000000</td>\n",
       "      <td>1.000000</td>\n",
       "      <td>61.000000</td>\n",
       "      <td>611.500000</td>\n",
       "    </tr>\n",
       "    <tr>\n",
       "      <th>75%</th>\n",
       "      <td>15.000000</td>\n",
       "      <td>45.434905</td>\n",
       "      <td>13.768136</td>\n",
       "      <td>128.000000</td>\n",
       "      <td>31.250000</td>\n",
       "      <td>163.000000</td>\n",
       "      <td>194.750000</td>\n",
       "      <td>379.250000</td>\n",
       "      <td>65.500000</td>\n",
       "      <td>6.250000</td>\n",
       "      <td>12.000000</td>\n",
       "      <td>400.750000</td>\n",
       "      <td>3084.000000</td>\n",
       "    </tr>\n",
       "    <tr>\n",
       "      <th>max</th>\n",
       "      <td>20.000000</td>\n",
       "      <td>46.499335</td>\n",
       "      <td>16.867367</td>\n",
       "      <td>9439.000000</td>\n",
       "      <td>1142.000000</td>\n",
       "      <td>10581.000000</td>\n",
       "      <td>8019.000000</td>\n",
       "      <td>17885.000000</td>\n",
       "      <td>1950.000000</td>\n",
       "      <td>5865.000000</td>\n",
       "      <td>3456.000000</td>\n",
       "      <td>27206.000000</td>\n",
       "      <td>70598.000000</td>\n",
       "    </tr>\n",
       "  </tbody>\n",
       "</table>\n",
       "</div>"
      ],
      "text/plain": [
       "       codice_regione         lat        long  ricoverati_con_sintomi  \\\n",
       "count      588.000000  588.000000  588.000000              588.000000   \n",
       "mean        10.190476   43.046293   12.225955              289.806122   \n",
       "std          5.799998    2.490900    2.661212              988.666023   \n",
       "min          1.000000   38.115697    7.320149                0.000000   \n",
       "25%          5.000000   41.125596   11.121231                2.000000   \n",
       "50%         10.000000   43.616760   12.388247               19.000000   \n",
       "75%         15.000000   45.434905   13.768136              128.000000   \n",
       "max         20.000000   46.499335   16.867367             9439.000000   \n",
       "\n",
       "       terapia_intensiva  totale_ospedalizzati  isolamento_domiciliare  \\\n",
       "count         588.000000            588.000000              588.000000   \n",
       "mean           48.772109            338.579932              276.840136   \n",
       "std           135.735296           1122.451889              790.734604   \n",
       "min             0.000000              0.000000                0.000000   \n",
       "25%             0.000000              2.000000                2.000000   \n",
       "50%             5.000000             24.500000               31.500000   \n",
       "75%            31.250000            163.000000              194.750000   \n",
       "max          1142.000000          10581.000000             8019.000000   \n",
       "\n",
       "       totale_attualmente_positivi  nuovi_attualmente_positivi  \\\n",
       "count                   588.000000                  588.000000   \n",
       "mean                    615.418367                   79.316327   \n",
       "std                    1871.041502                  201.632271   \n",
       "min                       0.000000                  -63.000000   \n",
       "25%                       5.000000                    1.000000   \n",
       "50%                      58.000000                   14.000000   \n",
       "75%                     379.250000                   65.500000   \n",
       "max                   17885.000000                 1950.000000   \n",
       "\n",
       "       dimessi_guariti     deceduti   totale_casi       tamponi  \n",
       "count       588.000000   588.000000    588.000000    588.000000  \n",
       "mean         76.722789    58.064626    750.205782   3858.069728  \n",
       "std         464.180085   283.325697   2581.655716   9087.057712  \n",
       "min           0.000000     0.000000      0.000000      0.000000  \n",
       "25%           0.000000     0.000000      6.000000    117.500000  \n",
       "50%           0.000000     1.000000     61.000000    611.500000  \n",
       "75%           6.250000    12.000000    400.750000   3084.000000  \n",
       "max        5865.000000  3456.000000  27206.000000  70598.000000  "
      ]
     },
     "execution_count": 261,
     "metadata": {},
     "output_type": "execute_result"
    }
   ],
   "source": [
    "regioni.describe()"
   ]
  },
  {
   "cell_type": "markdown",
   "metadata": {},
   "source": [
    "# Data Cleaning"
   ]
  },
  {
   "cell_type": "markdown",
   "metadata": {},
   "source": [
    "At first sight it is easy to notice that some instances are redundant."
   ]
  },
  {
   "cell_type": "markdown",
   "metadata": {},
   "source": [
    "here we change the data instance into an easier one, wiht no time or year. "
   ]
  },
  {
   "cell_type": "code",
   "execution_count": 262,
   "metadata": {},
   "outputs": [],
   "source": [
    "day=regioni.data.copy()\n",
    "import numpy as np\n",
    "day=np.array(day)\n",
    "for i in range(len(day)):\n",
    "    day[i]=day[i][5:10]\n",
    "day=pd.Series(day)\n",
    "regioni.insert(0,column='day', value=day)"
   ]
  },
  {
   "cell_type": "markdown",
   "metadata": {},
   "source": [
    "then we drop the 'data' & 'stato' column which are now useless"
   ]
  },
  {
   "cell_type": "code",
   "execution_count": 263,
   "metadata": {},
   "outputs": [],
   "source": [
    "regioni=regioni.drop(['data','stato'],axis=1)"
   ]
  },
  {
   "cell_type": "markdown",
   "metadata": {},
   "source": [
    "now we try to create a dataframe/dictionary which combines values of codice_regione with values of denominazione_regione"
   ]
  },
  {
   "cell_type": "markdown",
   "metadata": {},
   "source": [
    "we know there are 21 regions so it is enough to access the data frame up to the 20th row. "
   ]
  },
  {
   "cell_type": "code",
   "execution_count": 264,
   "metadata": {},
   "outputs": [],
   "source": [
    "def combine_to_dict(df,upto,f1,f2):\n",
    "    d12={}\n",
    "    d21={}\n",
    "    for i in range(upto):\n",
    "        one=df.at[i,f1]\n",
    "        two=df.at[i,f2]\n",
    "        d12[one]=two\n",
    "        d21[two]=one\n",
    "    return d12,d21\n",
    "d_num_as_key,d_reg_as_key=combine_to_dict(regioni,20,f1='codice_regione',f2='denominazione_regione')"
   ]
  },
  {
   "cell_type": "markdown",
   "metadata": {},
   "source": [
    "now we will shorten the dataframe so that we store in another dataframe the longitude and latitude coordinates which do not change at all"
   ]
  },
  {
   "cell_type": "code",
   "execution_count": 265,
   "metadata": {},
   "outputs": [],
   "source": [
    "def combine_to_datfr(df,row,col,upto):\n",
    "    ind=[row[i] for i in range(upto)]\n",
    "    dt=[]\n",
    "    for i in range(upto):\n",
    "        d=[]\n",
    "        for feat in col:\n",
    "            el=df.at[i,feat]\n",
    "            d.append(el)\n",
    "        dt.append(d)\n",
    "    ret=pd.DataFrame(data=dt,index=ind,columns=col)\n",
    "    return ret\n",
    "\n",
    "new=combine_to_datfr(regioni,regioni.denominazione_regione,['lat','long'],20)    \n",
    "            "
   ]
  },
  {
   "cell_type": "markdown",
   "metadata": {},
   "source": [
    "# Analysis"
   ]
  },
  {
   "cell_type": "markdown",
   "metadata": {},
   "source": [
    "as we can see, we have each day a number of measurements for 21 regions (numbered from 1 to 20)"
   ]
  },
  {
   "cell_type": "markdown",
   "metadata": {},
   "source": [
    "we can simply extract the number of observations of the civil protection by dividing the shape of the dataframe by 21"
   ]
  },
  {
   "cell_type": "code",
   "execution_count": 266,
   "metadata": {},
   "outputs": [],
   "source": [
    "n_obs=int(regioni.shape[0]/21)\n",
    "n_reg=21"
   ]
  },
  {
   "cell_type": "markdown",
   "metadata": {},
   "source": [
    "This is a function that returns the dataframe of a specific region. "
   ]
  },
  {
   "cell_type": "code",
   "execution_count": 267,
   "metadata": {},
   "outputs": [],
   "source": [
    "def get_regione(df,name,period):\n",
    "    n_obs=int(regioni.shape[0]/period) #number of days of the event observed\n",
    "    #the period argument is the number of regions in this case, since each day each region is recorded\n",
    "\n",
    "    for i in range(period):\n",
    "        if df.at[i,'denominazione_regione']==name:    #we extract the position of the region we want to get\n",
    "            start=i\n",
    "            break\n",
    "    d=regioni[start::period]                          #we extract all the information of it\n",
    "    d=d.drop(['denominazione_regione','lat','long','codice_regione'],axis=1)   #drop the irrelevant ones\n",
    "    ind={}\n",
    "    a=np.arange(1,n_obs+1)                            #index to insert in the new dataframe\n",
    "    b=np.arange(start,regioni.shape[0],step=period)   #old dataframe position\n",
    "    for i in range(len(b)):\n",
    "        ind[b[i]]=a[i]                                #dictionare to translate the two\n",
    "    d=d.rename(index=ind)                             #now the index of the region dataframe goes from one to n_obs\n",
    "    return d\n",
    "Lom=get_regione(regioni,'Lombardia',21)\n",
    "Ven=get_regione(regioni,'Veneto',21)"
   ]
  },
  {
   "cell_type": "code",
   "execution_count": 258,
   "metadata": {},
   "outputs": [
    {
     "data": {
      "text/plain": [
       "[<matplotlib.lines.Line2D at 0x124f23650>]"
      ]
     },
     "execution_count": 258,
     "metadata": {},
     "output_type": "execute_result"
    },
    {
     "data": {
      "image/png": "[encoded data removed]",
      "text/plain": [
       "<Figure size 432x288 with 1 Axes>"
      ]
     },
     "metadata": {
      "needs_background": "light"
     },
     "output_type": "display_data"
    }
   ],
   "source": []
  },
  {
   "cell_type": "code",
   "execution_count": null,
   "metadata": {},
   "outputs": [],
   "source": []
  },
  {
   "cell_type": "code",
   "execution_count": null,
   "metadata": {},
   "outputs": [],
   "source": []
  },
  {
   "cell_type": "code",
   "execution_count": null,
   "metadata": {},
   "outputs": [],
   "source": []
  }
 ],
 "metadata": {
  "kernelspec": {
   "display_name": "Python 3",
   "language": "python",
   "name": "python3"
  },
  "language_info": {
   "codemirror_mode": {
    "name": "ipython",
    "version": 3
   },
   "file_extension": ".py",
   "mimetype": "text/x-python",
   "name": "python",
   "nbconvert_exporter": "python",
   "pygments_lexer": "ipython3",
   "version": "3.7.4"
  }
 },
 "nbformat": 4,
 "nbformat_minor": 2
}
